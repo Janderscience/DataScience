{
 "cells": [
  {
   "cell_type": "code",
   "execution_count": 1,
   "metadata": {},
   "outputs": [
    {
     "data": {
      "text/html": [
       "\n",
       "<style>\n",
       "h1,h2,h3,h4,h5,h6,p,p.h1,p.h2.p.h3,p.h4,p.h5,p.h6{\n",
       "color:#772953;\n",
       "}\n",
       ".fab,.fas {\n",
       "    margin-right: 10px;\n",
       "}\n",
       "kbd {\n",
       "    background-color: #772953;\n",
       "    color: white;\n",
       "</style>\n",
       "<link rel=\"stylesheet\" href=\"https://use.fontawesome.com/releases/v5.6.1/css/all.css\" integrity=\"sha384-gfdkjb5BdAXd+lj+gudLWI+BXq4IuLW5IT+brZEZsLFm++aCMlF1V92rMkPaX4PP\" crossorigin=\"anonymous\">\n",
       "<script>\n",
       "var logoParent = document.getElementById(\"kernel_logo_widget\")\n",
       "var logo = document.getElementById(\"kernel_logo_widget\").getElementsByClassName(\"current_kernel_logo\")[0];\n",
       "logo.src = \"logo.png\";\n",
       "logo.style = \"display: inline; width:170px; height:34px\";\n",
       "logoParent.innerHTML = '<a href=\"https://github.com/Janderscience/DataScience\">' + logoParent.innerHTML + '</a>';\n",
       "</script>\n"
      ],
      "text/plain": [
       "<IPython.core.display.HTML object>"
      ]
     },
     "execution_count": 1,
     "metadata": {},
     "output_type": "execute_result"
    }
   ],
   "source": [
    "from IPython.core.display import HTML\n",
    "HTML('''\n",
    "<style>\n",
    "h1,h2,h3,h4,h5,h6,p,p.h1,p.h2.p.h3,p.h4,p.h5,p.h6{\n",
    "color:#772953;\n",
    "}\n",
    ".fab,.fas {\n",
    "    margin-right: 10px;\n",
    "}\n",
    "kbd {\n",
    "    background-color: #772953;\n",
    "    color: white;\n",
    "</style>\n",
    "<link rel=\"stylesheet\" href=\"https://use.fontawesome.com/releases/v5.6.1/css/all.css\" integrity=\"sha384-gfdkjb5BdAXd+lj+gudLWI+BXq4IuLW5IT+brZEZsLFm++aCMlF1V92rMkPaX4PP\" crossorigin=\"anonymous\">\n",
    "<script>\n",
    "var logoParent = document.getElementById(\"kernel_logo_widget\")\n",
    "var logo = document.getElementById(\"kernel_logo_widget\").getElementsByClassName(\"current_kernel_logo\")[0];\n",
    "logo.src = \"logo.png\";\n",
    "logo.style = \"display: inline; width:170px; height:34px\";\n",
    "logoParent.innerHTML = '<a href=\"https://github.com/Janderscience/DataScience\">' + logoParent.innerHTML + '</a>';\n",
    "</script>\n",
    "''')"
   ]
  },
  {
   "cell_type": "markdown",
   "metadata": {},
   "source": [
    "<h2><i class=\"fas fa-award\"></i>NIVEL FÀCIL</h2>"
   ]
  },
  {
   "cell_type": "markdown",
   "metadata": {},
   "source": [
    "<h3><i class=\"fas fa-chevron-circle-right\"></i>1- Importe Pandas e printe a versão</h3>"
   ]
  },
  {
   "cell_type": "code",
   "execution_count": 6,
   "metadata": {},
   "outputs": [
    {
     "name": "stdout",
     "output_type": "stream",
     "text": [
      "0.23.4\n"
     ]
    }
   ],
   "source": [
    "import pandas as pd\n",
    "print(pd.__version__)"
   ]
  },
  {
   "cell_type": "markdown",
   "metadata": {},
   "source": [
    "<h3><i class=\"fas fa-chevron-circle-right\"></i>2- Crie uma série panda de cada um dos ítens abaixo: uma lista, numpy e um dicionário</h3>\n",
    "<h5>minhalista = list(‘abcedfghijklmnopqrstuvwxyz’)</h5>\n",
    "<h5>meuarr = np.arange(26)</h5>\n",
    "<h5>meudict = dict(zip(mylist, myarr))</h5>    "
   ]
  },
  {
   "cell_type": "code",
   "execution_count": 9,
   "metadata": {},
   "outputs": [],
   "source": [
    "import numpy as np\n",
    "minhalista = list(\"abcedfghijklmnopqrstuvwxyz\")\n",
    "df = pd.Series(minhalista)"
   ]
  },
  {
   "cell_type": "code",
   "execution_count": 10,
   "metadata": {
    "collapsed": true
   },
   "outputs": [
    {
     "data": {
      "text/plain": [
       "0     a\n",
       "1     b\n",
       "2     c\n",
       "3     e\n",
       "4     d\n",
       "5     f\n",
       "6     g\n",
       "7     h\n",
       "8     i\n",
       "9     j\n",
       "10    k\n",
       "11    l\n",
       "12    m\n",
       "13    n\n",
       "14    o\n",
       "15    p\n",
       "16    q\n",
       "17    r\n",
       "18    s\n",
       "19    t\n",
       "20    u\n",
       "21    v\n",
       "22    w\n",
       "23    x\n",
       "24    y\n",
       "25    z\n",
       "dtype: object"
      ]
     },
     "execution_count": 10,
     "metadata": {},
     "output_type": "execute_result"
    }
   ],
   "source": [
    "df"
   ]
  },
  {
   "cell_type": "code",
   "execution_count": 13,
   "metadata": {},
   "outputs": [],
   "source": [
    "meuarr = np.arange(26)\n",
    "df = pd.Series(meuarr)"
   ]
  },
  {
   "cell_type": "code",
   "execution_count": 14,
   "metadata": {
    "collapsed": true
   },
   "outputs": [
    {
     "data": {
      "text/plain": [
       "0      0\n",
       "1      1\n",
       "2      2\n",
       "3      3\n",
       "4      4\n",
       "5      5\n",
       "6      6\n",
       "7      7\n",
       "8      8\n",
       "9      9\n",
       "10    10\n",
       "11    11\n",
       "12    12\n",
       "13    13\n",
       "14    14\n",
       "15    15\n",
       "16    16\n",
       "17    17\n",
       "18    18\n",
       "19    19\n",
       "20    20\n",
       "21    21\n",
       "22    22\n",
       "23    23\n",
       "24    24\n",
       "25    25\n",
       "dtype: int64"
      ]
     },
     "execution_count": 14,
     "metadata": {},
     "output_type": "execute_result"
    }
   ],
   "source": [
    "df"
   ]
  },
  {
   "cell_type": "code",
   "execution_count": 16,
   "metadata": {},
   "outputs": [],
   "source": [
    "\n",
    "meudict = dict(zip(minhalista, meuarr))\n",
    "df = pd.Series(meudict)"
   ]
  },
  {
   "cell_type": "code",
   "execution_count": 17,
   "metadata": {},
   "outputs": [
    {
     "data": {
      "text/plain": [
       "a     0\n",
       "b     1\n",
       "c     2\n",
       "e     3\n",
       "d     4\n",
       "f     5\n",
       "g     6\n",
       "h     7\n",
       "i     8\n",
       "j     9\n",
       "k    10\n",
       "l    11\n",
       "m    12\n",
       "n    13\n",
       "o    14\n",
       "p    15\n",
       "q    16\n",
       "r    17\n",
       "s    18\n",
       "t    19\n",
       "u    20\n",
       "v    21\n",
       "w    22\n",
       "x    23\n",
       "y    24\n",
       "z    25\n",
       "dtype: int64"
      ]
     },
     "execution_count": 17,
     "metadata": {},
     "output_type": "execute_result"
    }
   ],
   "source": [
    "df"
   ]
  },
  {
   "cell_type": "markdown",
   "metadata": {},
   "source": [
    "<h3><i class=\"fas fa-chevron-circle-right\"></i>3- Converta a série “ser” em um dataframe com seu índice como outra coluna no dataframe.</h3>"
   ]
  },
  {
   "cell_type": "code",
   "execution_count": 24,
   "metadata": {},
   "outputs": [],
   "source": [
    "minhalista = list(\"abcedfghijklmnopqrstuvwxyz\")\n",
    "meuarr = np.arange(26)\n",
    "meudic = dict(zip(minhalista, meuarr))\n",
    "ser = pd.Series(meudic,index=meuarr)"
   ]
  },
  {
   "cell_type": "code",
   "execution_count": 25,
   "metadata": {},
   "outputs": [
    {
     "data": {
      "text/plain": [
       "0    NaN\n",
       "1    NaN\n",
       "2    NaN\n",
       "3    NaN\n",
       "4    NaN\n",
       "5    NaN\n",
       "6    NaN\n",
       "7    NaN\n",
       "8    NaN\n",
       "9    NaN\n",
       "10   NaN\n",
       "11   NaN\n",
       "12   NaN\n",
       "13   NaN\n",
       "14   NaN\n",
       "15   NaN\n",
       "16   NaN\n",
       "17   NaN\n",
       "18   NaN\n",
       "19   NaN\n",
       "20   NaN\n",
       "21   NaN\n",
       "22   NaN\n",
       "23   NaN\n",
       "24   NaN\n",
       "25   NaN\n",
       "dtype: float64"
      ]
     },
     "execution_count": 25,
     "metadata": {},
     "output_type": "execute_result"
    }
   ],
   "source": [
    "ser"
   ]
  },
  {
   "cell_type": "markdown",
   "metadata": {},
   "source": [
    "<h3><i class=\"fas fa-chevron-circle-right\"></i>4- Combine ‘ser1’ e ‘ser2’ para formar um dataframe</h3>"
   ]
  },
  {
   "cell_type": "code",
   "execution_count": 28,
   "metadata": {},
   "outputs": [],
   "source": [
    "ser1 = pd.Series(list(\"abcedfghijklmnopqrstuvwxyz\"))\n",
    "ser2 = pd.Series(np.arange(26))\n",
    "ser3 = [ser1,ser2]\n",
    "ser4 = pd.concat(ser3)"
   ]
  },
  {
   "cell_type": "code",
   "execution_count": 29,
   "metadata": {},
   "outputs": [
    {
     "data": {
      "text/plain": [
       "0      a\n",
       "1      b\n",
       "2      c\n",
       "3      e\n",
       "4      d\n",
       "5      f\n",
       "6      g\n",
       "7      h\n",
       "8      i\n",
       "9      j\n",
       "10     k\n",
       "11     l\n",
       "12     m\n",
       "13     n\n",
       "14     o\n",
       "15     p\n",
       "16     q\n",
       "17     r\n",
       "18     s\n",
       "19     t\n",
       "20     u\n",
       "21     v\n",
       "22     w\n",
       "23     x\n",
       "24     y\n",
       "25     z\n",
       "0      0\n",
       "1      1\n",
       "2      2\n",
       "3      3\n",
       "4      4\n",
       "5      5\n",
       "6      6\n",
       "7      7\n",
       "8      8\n",
       "9      9\n",
       "10    10\n",
       "11    11\n",
       "12    12\n",
       "13    13\n",
       "14    14\n",
       "15    15\n",
       "16    16\n",
       "17    17\n",
       "18    18\n",
       "19    19\n",
       "20    20\n",
       "21    21\n",
       "22    22\n",
       "23    23\n",
       "24    24\n",
       "25    25\n",
       "dtype: object"
      ]
     },
     "execution_count": 29,
     "metadata": {},
     "output_type": "execute_result"
    }
   ],
   "source": [
    "ser4"
   ]
  },
  {
   "cell_type": "markdown",
   "metadata": {},
   "source": [
    "<h3><i class=\"fas fa-chevron-circle-right\"></i>5- Atribua um nome a série “ser” chamando-a de ‘alfabeto’.</h3>\n"
   ]
  },
  {
   "cell_type": "code",
   "execution_count": 32,
   "metadata": {},
   "outputs": [
    {
     "data": {
      "text/plain": [
       "0     a\n",
       "1     b\n",
       "2     c\n",
       "3     e\n",
       "4     d\n",
       "5     f\n",
       "6     g\n",
       "7     h\n",
       "8     i\n",
       "9     j\n",
       "10    k\n",
       "11    l\n",
       "12    m\n",
       "13    n\n",
       "14    o\n",
       "15    p\n",
       "16    q\n",
       "17    r\n",
       "18    s\n",
       "19    t\n",
       "20    u\n",
       "21    v\n",
       "22    w\n",
       "23    x\n",
       "24    y\n",
       "25    z\n",
       "Name: alfabeto, dtype: object"
      ]
     },
     "execution_count": 32,
     "metadata": {},
     "output_type": "execute_result"
    }
   ],
   "source": [
    "ser = pd.Series(list(\"abcedfghijklmnopqrstuvwxyz\"))\n",
    "ser.rename('alfabeto')"
   ]
  },
  {
   "cell_type": "markdown",
   "metadata": {},
   "source": [
    "<h2><i class=\"fas fa-award\"></i>NIVEL MÈDIO</h2>"
   ]
  },
  {
   "cell_type": "code",
   "execution_count": null,
   "metadata": {},
   "outputs": [],
   "source": []
  }
 ],
 "metadata": {
  "kernelspec": {
   "display_name": "Python 3",
   "language": "python",
   "name": "python3"
  },
  "language_info": {
   "codemirror_mode": {
    "name": "ipython",
    "version": 3
   },
   "file_extension": ".py",
   "mimetype": "text/x-python",
   "name": "python",
   "nbconvert_exporter": "python",
   "pygments_lexer": "ipython3",
   "version": "3.7.0"
  }
 },
 "nbformat": 4,
 "nbformat_minor": 2
}
