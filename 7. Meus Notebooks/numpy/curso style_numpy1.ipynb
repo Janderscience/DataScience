{
 "cells": [
  {
   "cell_type": "code",
   "execution_count": 1,
   "metadata": {},
   "outputs": [],
   "source": [
    "import numpy as np"
   ]
  },
  {
   "cell_type": "code",
   "execution_count": 2,
   "metadata": {},
   "outputs": [],
   "source": [
    "a = np.array([10,20,30])"
   ]
  },
  {
   "cell_type": "code",
   "execution_count": 3,
   "metadata": {},
   "outputs": [
    {
     "data": {
      "text/plain": [
       "array([10, 20, 30])"
      ]
     },
     "execution_count": 3,
     "metadata": {},
     "output_type": "execute_result"
    }
   ],
   "source": [
    "a"
   ]
  },
  {
   "cell_type": "code",
   "execution_count": 4,
   "metadata": {},
   "outputs": [
    {
     "data": {
      "text/plain": [
       "numpy.ndarray"
      ]
     },
     "execution_count": 4,
     "metadata": {},
     "output_type": "execute_result"
    }
   ],
   "source": [
    "type(a)"
   ]
  },
  {
   "cell_type": "code",
   "execution_count": 5,
   "metadata": {},
   "outputs": [
    {
     "data": {
      "text/plain": [
       "(3,)"
      ]
     },
     "execution_count": 5,
     "metadata": {},
     "output_type": "execute_result"
    }
   ],
   "source": [
    "np.shape(a)"
   ]
  },
  {
   "cell_type": "code",
   "execution_count": 6,
   "metadata": {},
   "outputs": [],
   "source": [
    "mat = np.array([[1,2],[3,4]])"
   ]
  },
  {
   "cell_type": "code",
   "execution_count": 7,
   "metadata": {},
   "outputs": [
    {
     "data": {
      "text/plain": [
       "array([[1, 2],\n",
       "       [3, 4]])"
      ]
     },
     "execution_count": 7,
     "metadata": {},
     "output_type": "execute_result"
    }
   ],
   "source": [
    "mat"
   ]
  },
  {
   "cell_type": "code",
   "execution_count": 8,
   "metadata": {},
   "outputs": [
    {
     "data": {
      "text/plain": [
       "(2, 2)"
      ]
     },
     "execution_count": 8,
     "metadata": {},
     "output_type": "execute_result"
    }
   ],
   "source": [
    "np.shape(mat)"
   ]
  },
  {
   "cell_type": "code",
   "execution_count": 9,
   "metadata": {},
   "outputs": [
    {
     "data": {
      "text/plain": [
       "4"
      ]
     },
     "execution_count": 9,
     "metadata": {},
     "output_type": "execute_result"
    }
   ],
   "source": [
    "mat[1][1] # segundo elemento da linha(1) e segundo elemnto da coluna(1)"
   ]
  },
  {
   "cell_type": "code",
   "execution_count": 10,
   "metadata": {},
   "outputs": [
    {
     "data": {
      "text/plain": [
       "4"
      ]
     },
     "execution_count": 10,
     "metadata": {},
     "output_type": "execute_result"
    }
   ],
   "source": [
    "mat[1,1] # outra forma de indexar"
   ]
  },
  {
   "cell_type": "code",
   "execution_count": 11,
   "metadata": {},
   "outputs": [
    {
     "data": {
      "text/plain": [
       "2"
      ]
     },
     "execution_count": 11,
     "metadata": {},
     "output_type": "execute_result"
    }
   ],
   "source": [
    "mat[0,1] # primeiro elemnto da segunda coluna(1) e na primeira linha(0)"
   ]
  },
  {
   "cell_type": "code",
   "execution_count": 12,
   "metadata": {},
   "outputs": [
    {
     "data": {
      "text/plain": [
       "4"
      ]
     },
     "execution_count": 12,
     "metadata": {},
     "output_type": "execute_result"
    }
   ],
   "source": [
    "mat[1,1]"
   ]
  },
  {
   "cell_type": "code",
   "execution_count": 13,
   "metadata": {},
   "outputs": [
    {
     "data": {
      "text/plain": [
       "4"
      ]
     },
     "execution_count": 13,
     "metadata": {},
     "output_type": "execute_result"
    }
   ],
   "source": [
    "mat[-1,-1]"
   ]
  },
  {
   "cell_type": "code",
   "execution_count": 14,
   "metadata": {},
   "outputs": [
    {
     "data": {
      "text/plain": [
       "array([2, 4])"
      ]
     },
     "execution_count": 14,
     "metadata": {},
     "output_type": "execute_result"
    }
   ],
   "source": [
    "mat[:,1] # exibe a segunda coluna"
   ]
  },
  {
   "cell_type": "code",
   "execution_count": 15,
   "metadata": {},
   "outputs": [
    {
     "data": {
      "text/plain": [
       "array([3, 4])"
      ]
     },
     "execution_count": 15,
     "metadata": {},
     "output_type": "execute_result"
    }
   ],
   "source": [
    "mat[1,:] # exibe a segunda linha"
   ]
  },
  {
   "cell_type": "code",
   "execution_count": 16,
   "metadata": {},
   "outputs": [
    {
     "data": {
      "text/plain": [
       "array([[1, 3],\n",
       "       [2, 4]])"
      ]
     },
     "execution_count": 16,
     "metadata": {},
     "output_type": "execute_result"
    }
   ],
   "source": [
    "mat.transpose() # obter a matriz transposta: coluna vira linha e linha vira coluna"
   ]
  },
  {
   "cell_type": "code",
   "execution_count": 17,
   "metadata": {},
   "outputs": [],
   "source": [
    "matx = np.round(np.random.randn(100)*100,0).reshape(20,5)"
   ]
  },
  {
   "cell_type": "code",
   "execution_count": 18,
   "metadata": {},
   "outputs": [
    {
     "data": {
      "text/plain": [
       "array([[ 105., -100., -175.,  -32.,  -82.],\n",
       "       [  22.,  -22., -115.,  -59.,  -64.],\n",
       "       [-197., -115.,   43., -152.,  201.],\n",
       "       [ 132.,  116.,    2.,  -78.,  -54.],\n",
       "       [  27.,  130.,  160.,  -16.,  -70.],\n",
       "       [  15.,  -36.,  -62.,  -59.,  -56.],\n",
       "       [  91., -165., -119.,   89.,   -6.],\n",
       "       [  96.,  -73., -125.,   16., -121.],\n",
       "       [-189.,  -37.,  -47.,   21.,  -67.],\n",
       "       [ -38.,  -88., -128.,   16., -244.],\n",
       "       [  20.,    6.,  -34.,  -66.,   11.],\n",
       "       [  66.,  -55.,   21.,  -32.,   23.],\n",
       "       [  63.,   85.,  130.,   33.,   72.],\n",
       "       [  65.,   64.,   61.,  -78.,    9.],\n",
       "       [-155.,  202.,  119.,   96.,  -26.],\n",
       "       [ 100.,  163.,   68., -100.,  -35.],\n",
       "       [  -9.,  149.,  100.,   86.,   39.],\n",
       "       [-133.,  -23.,  -79.,   63.,  -49.],\n",
       "       [  20.,    0.,  -25.,  -57.,   91.],\n",
       "       [ 112.,  123.,  205.,  107., -123.]])"
      ]
     },
     "execution_count": 18,
     "metadata": {},
     "output_type": "execute_result"
    }
   ],
   "source": [
    "matx"
   ]
  },
  {
   "cell_type": "code",
   "execution_count": 19,
   "metadata": {},
   "outputs": [
    {
     "data": {
      "text/plain": [
       "-244.0"
      ]
     },
     "execution_count": 19,
     "metadata": {},
     "output_type": "execute_result"
    }
   ],
   "source": [
    "matx.min()"
   ]
  },
  {
   "cell_type": "code",
   "execution_count": 20,
   "metadata": {},
   "outputs": [
    {
     "data": {
      "text/plain": [
       "205.0"
      ]
     },
     "execution_count": 20,
     "metadata": {},
     "output_type": "execute_result"
    }
   ],
   "source": [
    "matx.max()"
   ]
  },
  {
   "cell_type": "code",
   "execution_count": 21,
   "metadata": {},
   "outputs": [
    {
     "data": {
      "text/plain": [
       "-216.0"
      ]
     },
     "execution_count": 21,
     "metadata": {},
     "output_type": "execute_result"
    }
   ],
   "source": [
    "np.sum(matx)"
   ]
  },
  {
   "cell_type": "code",
   "execution_count": 22,
   "metadata": {},
   "outputs": [],
   "source": [
    "matxp = np.round((matx / 468) * 100,0)"
   ]
  },
  {
   "cell_type": "code",
   "execution_count": 23,
   "metadata": {},
   "outputs": [
    {
     "data": {
      "text/plain": [
       "array([[ 22., -21., -37.,  -7., -18.],\n",
       "       [  5.,  -5., -25., -13., -14.],\n",
       "       [-42., -25.,   9., -32.,  43.],\n",
       "       [ 28.,  25.,   0., -17., -12.],\n",
       "       [  6.,  28.,  34.,  -3., -15.],\n",
       "       [  3.,  -8., -13., -13., -12.],\n",
       "       [ 19., -35., -25.,  19.,  -1.],\n",
       "       [ 21., -16., -27.,   3., -26.],\n",
       "       [-40.,  -8., -10.,   4., -14.],\n",
       "       [ -8., -19., -27.,   3., -52.],\n",
       "       [  4.,   1.,  -7., -14.,   2.],\n",
       "       [ 14., -12.,   4.,  -7.,   5.],\n",
       "       [ 13.,  18.,  28.,   7.,  15.],\n",
       "       [ 14.,  14.,  13., -17.,   2.],\n",
       "       [-33.,  43.,  25.,  21.,  -6.],\n",
       "       [ 21.,  35.,  15., -21.,  -7.],\n",
       "       [ -2.,  32.,  21.,  18.,   8.],\n",
       "       [-28.,  -5., -17.,  13., -10.],\n",
       "       [  4.,   0.,  -5., -12.,  19.],\n",
       "       [ 24.,  26.,  44.,  23., -26.]])"
      ]
     },
     "execution_count": 23,
     "metadata": {},
     "output_type": "execute_result"
    }
   ],
   "source": [
    "matxp"
   ]
  },
  {
   "cell_type": "code",
   "execution_count": 24,
   "metadata": {},
   "outputs": [
    {
     "data": {
      "text/plain": [
       "-51.0"
      ]
     },
     "execution_count": 24,
     "metadata": {},
     "output_type": "execute_result"
    }
   ],
   "source": [
    "np.sum(matxp)"
   ]
  },
  {
   "cell_type": "code",
   "execution_count": 25,
   "metadata": {},
   "outputs": [
    {
     "data": {
      "text/plain": [
       "array([[ 22.,   5., -42.,  28.,   6.,   3.,  19.,  21., -40.,  -8.,   4.,\n",
       "         14.,  13.,  14., -33.,  21.,  -2., -28.,   4.,  24.],\n",
       "       [-21.,  -5., -25.,  25.,  28.,  -8., -35., -16.,  -8., -19.,   1.,\n",
       "        -12.,  18.,  14.,  43.,  35.,  32.,  -5.,   0.,  26.],\n",
       "       [-37., -25.,   9.,   0.,  34., -13., -25., -27., -10., -27.,  -7.,\n",
       "          4.,  28.,  13.,  25.,  15.,  21., -17.,  -5.,  44.],\n",
       "       [ -7., -13., -32., -17.,  -3., -13.,  19.,   3.,   4.,   3., -14.,\n",
       "         -7.,   7., -17.,  21., -21.,  18.,  13., -12.,  23.],\n",
       "       [-18., -14.,  43., -12., -15., -12.,  -1., -26., -14., -52.,   2.,\n",
       "          5.,  15.,   2.,  -6.,  -7.,   8., -10.,  19., -26.]])"
      ]
     },
     "execution_count": 25,
     "metadata": {},
     "output_type": "execute_result"
    }
   ],
   "source": [
    "np.transpose(matxp)"
   ]
  },
  {
   "cell_type": "code",
   "execution_count": 26,
   "metadata": {},
   "outputs": [],
   "source": [
    "m1 = np.array([[1,2],[3,4]])\n",
    "m2 = np.array([[5,6],[7,8]])"
   ]
  },
  {
   "cell_type": "code",
   "execution_count": 27,
   "metadata": {},
   "outputs": [
    {
     "data": {
      "text/plain": [
       "array([[1, 2],\n",
       "       [3, 4]])"
      ]
     },
     "execution_count": 27,
     "metadata": {},
     "output_type": "execute_result"
    }
   ],
   "source": [
    "m1"
   ]
  },
  {
   "cell_type": "code",
   "execution_count": 28,
   "metadata": {},
   "outputs": [
    {
     "data": {
      "text/plain": [
       "array([[5, 6],\n",
       "       [7, 8]])"
      ]
     },
     "execution_count": 28,
     "metadata": {},
     "output_type": "execute_result"
    }
   ],
   "source": [
    "m2"
   ]
  },
  {
   "cell_type": "code",
   "execution_count": 29,
   "metadata": {},
   "outputs": [
    {
     "data": {
      "text/plain": [
       "array([[ 6,  8],\n",
       "       [10, 12]])"
      ]
     },
     "execution_count": 29,
     "metadata": {},
     "output_type": "execute_result"
    }
   ],
   "source": [
    "m1 + m2 # soma de duas matrizes 1+5 , 2+6 , 3+7 , 4+8 "
   ]
  },
  {
   "cell_type": "code",
   "execution_count": 30,
   "metadata": {},
   "outputs": [
    {
     "data": {
      "text/plain": [
       "array([[-4, -4],\n",
       "       [-4, -4]])"
      ]
     },
     "execution_count": 30,
     "metadata": {},
     "output_type": "execute_result"
    }
   ],
   "source": [
    "m1 - m2"
   ]
  },
  {
   "cell_type": "code",
   "execution_count": 31,
   "metadata": {},
   "outputs": [
    {
     "data": {
      "text/plain": [
       "array([[ 5, 12],\n",
       "       [21, 32]])"
      ]
     },
     "execution_count": 31,
     "metadata": {},
     "output_type": "execute_result"
    }
   ],
   "source": [
    "m1 * m2"
   ]
  },
  {
   "cell_type": "code",
   "execution_count": 32,
   "metadata": {},
   "outputs": [
    {
     "data": {
      "text/plain": [
       "array([[0.2       , 0.33333333],\n",
       "       [0.42857143, 0.5       ]])"
      ]
     },
     "execution_count": 32,
     "metadata": {},
     "output_type": "execute_result"
    }
   ],
   "source": [
    "m1 / m2"
   ]
  },
  {
   "cell_type": "code",
   "execution_count": 33,
   "metadata": {},
   "outputs": [
    {
     "data": {
      "text/plain": [
       "array([[    1,    64],\n",
       "       [ 2187, 65536]])"
      ]
     },
     "execution_count": 33,
     "metadata": {},
     "output_type": "execute_result"
    }
   ],
   "source": [
    "m1 ** m2"
   ]
  },
  {
   "cell_type": "code",
   "execution_count": 34,
   "metadata": {},
   "outputs": [],
   "source": [
    "m3 = np.array([1,6,9,2,0,10,7,5])"
   ]
  },
  {
   "cell_type": "code",
   "execution_count": 35,
   "metadata": {},
   "outputs": [
    {
     "data": {
      "text/plain": [
       "40"
      ]
     },
     "execution_count": 35,
     "metadata": {},
     "output_type": "execute_result"
    }
   ],
   "source": [
    "m3.sum()"
   ]
  },
  {
   "cell_type": "code",
   "execution_count": 36,
   "metadata": {},
   "outputs": [
    {
     "data": {
      "text/plain": [
       "0"
      ]
     },
     "execution_count": 36,
     "metadata": {},
     "output_type": "execute_result"
    }
   ],
   "source": [
    "m3.min()"
   ]
  },
  {
   "cell_type": "code",
   "execution_count": 37,
   "metadata": {},
   "outputs": [
    {
     "data": {
      "text/plain": [
       "10"
      ]
     },
     "execution_count": 37,
     "metadata": {},
     "output_type": "execute_result"
    }
   ],
   "source": [
    "m3.max()"
   ]
  },
  {
   "cell_type": "code",
   "execution_count": 38,
   "metadata": {},
   "outputs": [
    {
     "data": {
      "text/plain": [
       "4"
      ]
     },
     "execution_count": 38,
     "metadata": {},
     "output_type": "execute_result"
    }
   ],
   "source": [
    "m3.argmin()"
   ]
  },
  {
   "cell_type": "code",
   "execution_count": 39,
   "metadata": {},
   "outputs": [
    {
     "data": {
      "text/plain": [
       "5"
      ]
     },
     "execution_count": 39,
     "metadata": {},
     "output_type": "execute_result"
    }
   ],
   "source": [
    "m3.argmax()"
   ]
  },
  {
   "cell_type": "code",
   "execution_count": 40,
   "metadata": {},
   "outputs": [
    {
     "data": {
      "text/plain": [
       "5.0"
      ]
     },
     "execution_count": 40,
     "metadata": {},
     "output_type": "execute_result"
    }
   ],
   "source": [
    "m3.mean()"
   ]
  },
  {
   "cell_type": "code",
   "execution_count": 41,
   "metadata": {},
   "outputs": [],
   "source": [
    "m4 = np.array([[9,10],[11,12]])"
   ]
  },
  {
   "cell_type": "code",
   "execution_count": 42,
   "metadata": {},
   "outputs": [
    {
     "data": {
      "text/plain": [
       "array([[15, 18],\n",
       "       [21, 24]])"
      ]
     },
     "execution_count": 42,
     "metadata": {},
     "output_type": "execute_result"
    }
   ],
   "source": [
    "m1 + m2 + m4"
   ]
  },
  {
   "cell_type": "code",
   "execution_count": 43,
   "metadata": {},
   "outputs": [
    {
     "data": {
      "text/plain": [
       "array([20, 22])"
      ]
     },
     "execution_count": 43,
     "metadata": {},
     "output_type": "execute_result"
    }
   ],
   "source": [
    "sum(m4)"
   ]
  },
  {
   "cell_type": "code",
   "execution_count": 44,
   "metadata": {},
   "outputs": [
    {
     "data": {
      "text/plain": [
       "array([ 22.,  -5.,   9., -17., -15.])"
      ]
     },
     "execution_count": 44,
     "metadata": {},
     "output_type": "execute_result"
    }
   ],
   "source": [
    "np.diagonal(matxp) # extrai a linha diagonal da matriz "
   ]
  },
  {
   "cell_type": "code",
   "execution_count": 45,
   "metadata": {},
   "outputs": [
    {
     "data": {
      "text/plain": [
       "2"
      ]
     },
     "execution_count": 45,
     "metadata": {},
     "output_type": "execute_result"
    }
   ],
   "source": [
    "np.ndim(matxp) # dimensoa da matriz"
   ]
  },
  {
   "cell_type": "code",
   "execution_count": 46,
   "metadata": {},
   "outputs": [],
   "source": [
    "mat2 = np.array([[[1,2,3,4],[5,6,7,8]]])"
   ]
  },
  {
   "cell_type": "code",
   "execution_count": 47,
   "metadata": {},
   "outputs": [
    {
     "data": {
      "text/plain": [
       "array([[[1, 2, 3, 4],\n",
       "        [5, 6, 7, 8]]])"
      ]
     },
     "execution_count": 47,
     "metadata": {},
     "output_type": "execute_result"
    }
   ],
   "source": [
    "mat2"
   ]
  },
  {
   "cell_type": "code",
   "execution_count": 48,
   "metadata": {},
   "outputs": [
    {
     "data": {
      "text/plain": [
       "3"
      ]
     },
     "execution_count": 48,
     "metadata": {},
     "output_type": "execute_result"
    }
   ],
   "source": [
    "np.ndim(mat2) # matriz de 3 dimensoes"
   ]
  },
  {
   "cell_type": "code",
   "execution_count": 2,
   "metadata": {},
   "outputs": [
    {
     "data": {
      "text/html": [
       "\n",
       "<style>\n",
       "h1,h2,h3,h4,h5,h6,p,p.h1,p.h2.p.h3,p.h4,p.h5,p.h6{\n",
       "color:#772953;\n",
       "}\n",
       ".fab,.fas {\n",
       "    margin-right: 10px;\n",
       "}\n",
       "kbd {\n",
       "    background-color: #772953;\n",
       "    color: white;\n",
       "</style>\n",
       "<link rel=\"stylesheet\" href=\"https://use.fontawesome.com/releases/v5.6.1/css/all.css\" integrity=\"sha384-gfdkjb5BdAXd+lj+gudLWI+BXq4IuLW5IT+brZEZsLFm++aCMlF1V92rMkPaX4PP\" crossorigin=\"anonymous\">\n",
       "<script>\n",
       "var logoParent = document.getElementById(\"kernel_logo_widget\")\n",
       "var logo = document.getElementById(\"kernel_logo_widget\").getElementsByClassName(\"current_kernel_logo\")[0];\n",
       "logo.src = \"https://raw.githubusercontent.com/Janderscience/DataScience/master/logo.png\";\n",
       "logo.style = \"display: inline; width:170px; height:34px\";\n",
       "logoParent.innerHTML = '<a href=\"https://github.com/Janderscience/DataScience\">' + logoParent.innerHTML + '</a>';\n",
       "</script>\n"
      ],
      "text/plain": [
       "<IPython.core.display.HTML object>"
      ]
     },
     "execution_count": 2,
     "metadata": {},
     "output_type": "execute_result"
    }
   ],
   "source": [
    "from IPython.core.display import HTML\n",
    "HTML('''\n",
    "<style>\n",
    "h1,h2,h3,h4,h5,h6,p,p.h1,p.h2.p.h3,p.h4,p.h5,p.h6{\n",
    "color:#772953;\n",
    "}\n",
    ".fab,.fas {\n",
    "    margin-right: 10px;\n",
    "}\n",
    "kbd {\n",
    "    background-color: #772953;\n",
    "    color: white;\n",
    "</style>\n",
    "<link rel=\"stylesheet\" href=\"https://use.fontawesome.com/releases/v5.6.1/css/all.css\" integrity=\"sha384-gfdkjb5BdAXd+lj+gudLWI+BXq4IuLW5IT+brZEZsLFm++aCMlF1V92rMkPaX4PP\" crossorigin=\"anonymous\">\n",
    "<script>\n",
    "var logoParent = document.getElementById(\"kernel_logo_widget\")\n",
    "var logo = document.getElementById(\"kernel_logo_widget\").getElementsByClassName(\"current_kernel_logo\")[0];\n",
    "logo.src = \"https://raw.githubusercontent.com/Janderscience/DataScience/master/logo.png\";\n",
    "logo.style = \"display: inline; width:170px; height:34px\";\n",
    "logoParent.innerHTML = '<a href=\"https://github.com/Janderscience/DataScience\">' + logoParent.innerHTML + '</a>';\n",
    "</script>\n",
    "''')"
   ]
  },
  {
   "cell_type": "markdown",
   "metadata": {},
   "source": [
    "<h1><i class=\"fab fa-algolia\"></i>Testando</h1>\n",
    "<h2><i class=\"fas fa-address-card\"></i>Testando</h2>\n",
    "<h3><i class=\"fab fa-adn\"></i>Testando</h3>\n",
    "<h4><i class=\"fas fa-atom\"></i>Testando</h4>\n",
    "<h5><i class=\"fas fa-award\"></i>Testando</h5>\n",
    "<h6><i class=\"fas fa-balance-scale\"></i>Testando</h6>\n",
    "<p><i class=\"fas fa-bezier-curve\"></i>Testando</p>\n",
    "<h3>\n",
    "  Fancy display heading\n",
    "  <small class=\"text-muted\">With faded secondary text</small>\n",
    "</h3>\n",
    "<p class=\"h1\">h1. Bootstrap heading</p>\n",
    "<p class=\"h2\">h2. Bootstrap heading</p>\n",
    "<p class=\"h3\">h3. Bootstrap heading</p>\n",
    "<p class=\"h4\">h4. Bootstrap heading</p>\n",
    "<p class=\"h5\">h5. Bootstrap heading</p>\n",
    "<p class=\"h6\">h6. Bootstrap heading</p>"
   ]
  },
  {
   "cell_type": "markdown",
   "metadata": {},
   "source": [
    "<p class=\"lead\">\n",
    "  Vivamus sagittis lacus vel augue laoreet rutrum faucibus dolor auctor. Duis mollis, est non commodo luctus.\n",
    "</p>"
   ]
  },
  {
   "cell_type": "markdown",
   "metadata": {},
   "source": [
    "<p>You can use the mark tag to <mark>highlight</mark> text.</p>\n",
    "<p><del>This line of text is meant to be treated as deleted text.</del></p>\n",
    "<p><s>This line of text is meant to be treated as no longer accurate.</s></p>\n",
    "<p><ins>This line of text is meant to be treated as an addition to the document.</ins></p>\n",
    "<p><u>This line of text will render as underlined</u></p>\n",
    "<p><small>This line of text is meant to be treated as fine print.</small></p>\n",
    "<p><strong>This line rendered as bold text.</strong></p>\n",
    "<p><em>This line rendered as italicized text.</em></p>"
   ]
  },
  {
   "cell_type": "markdown",
   "metadata": {},
   "source": [
    "<p><abbr title=\"attribute\">attr</abbr></p>\n",
    "<p><abbr title=\"HyperText Markup Language\" class=\"initialism\">HTML</abbr></p>"
   ]
  },
  {
   "cell_type": "markdown",
   "metadata": {},
   "source": [
    "<blockquote class=\"blockquote\">\n",
    "  <p class=\"mb-0\">Lorem ipsum dolor sit amet, consectetur adipiscing elit. Integer posuere erat a ante.</p>\n",
    "</blockquote>"
   ]
  },
  {
   "cell_type": "markdown",
   "metadata": {},
   "source": [
    "<blockquote class=\"blockquote\">\n",
    "  <p class=\"mb-0\">Lorem ipsum dolor sit amet, consectetur adipiscing elit. Integer posuere erat a ante.</p>\n",
    "  <footer class=\"blockquote-footer\">Someone famous in <cite title=\"Source Title\">Source Title</cite></footer>\n",
    "</blockquote>"
   ]
  },
  {
   "cell_type": "markdown",
   "metadata": {},
   "source": [
    "<blockquote class=\"blockquote text-center\">\n",
    "  <p class=\"mb-0\">Lorem ipsum dolor sit amet, consectetur adipiscing elit. Integer posuere erat a ante.</p>\n",
    "  <footer class=\"blockquote-footer\">Someone famous in <cite title=\"Source Title\">Source Title</cite></footer>\n",
    "</blockquote>"
   ]
  },
  {
   "cell_type": "markdown",
   "metadata": {},
   "source": [
    "<ul class=\"list-unstyled\">\n",
    "  <li>Lorem ipsum dolor sit amet</li>\n",
    "  <li>Consectetur adipiscing elit</li>\n",
    "  <li>Integer molestie lorem at massa</li>\n",
    "  <li>Facilisis in pretium nisl aliquet</li>\n",
    "  <li>Nulla volutpat aliquam velit\n",
    "    <ul>\n",
    "      <li>Phasellus iaculis neque</li>\n",
    "      <li>Purus sodales ultricies</li>\n",
    "      <li>Vestibulum laoreet porttitor sem</li>\n",
    "      <li>Ac tristique libero volutpat at</li>\n",
    "    </ul>\n",
    "  </li>\n",
    "  <li>Faucibus porta lacus fringilla vel</li>\n",
    "  <li>Aenean sit amet erat nunc</li>\n",
    "  <li>Eget porttitor lorem</li>\n",
    "</ul>"
   ]
  },
  {
   "cell_type": "markdown",
   "metadata": {},
   "source": [
    "<ul class=\"list-inline\">\n",
    "  <li class=\"list-inline-item\">Lorem ipsum</li>\n",
    "  <li class=\"list-inline-item\">Phasellus iaculis</li>\n",
    "  <li class=\"list-inline-item\">Nulla volutpat</li>\n",
    "</ul>"
   ]
  },
  {
   "cell_type": "markdown",
   "metadata": {},
   "source": [
    "<dl class=\"row\">\n",
    "  <dt class=\"col-sm-3\">Description lists</dt>\n",
    "  <dd class=\"col-sm-9\">A description list is perfect for defining terms.</dd>\n",
    "\n",
    "  <dt class=\"col-sm-3\">Euismod</dt>\n",
    "  <dd class=\"col-sm-9\">\n",
    "    <p>Vestibulum id ligula porta felis euismod semper eget lacinia odio sem nec elit.</p>\n",
    "    <p>Donec id elit non mi porta gravida at eget metus.</p>\n",
    "  </dd>\n",
    "\n",
    "  <dt class=\"col-sm-3\">Malesuada porta</dt>\n",
    "  <dd class=\"col-sm-9\">Etiam porta sem malesuada magna mollis euismod.</dd>\n",
    "\n",
    "  <dt class=\"col-sm-3 text-truncate\">Truncated term is truncated</dt>\n",
    "  <dd class=\"col-sm-9\">Fusce dapibus, tellus ac cursus commodo, tortor mauris condimentum nibh, ut fermentum massa justo sit amet risus.</dd>\n",
    "\n",
    "  <dt class=\"col-sm-3\">Nesting</dt>\n",
    "  <dd class=\"col-sm-9\">\n",
    "    <dl class=\"row\">\n",
    "      <dt class=\"col-sm-4\">Nested definition list</dt>\n",
    "      <dd class=\"col-sm-8\">Aenean posuere, tortor sed cursus feugiat, nunc augue blandit nunc.</dd>\n",
    "    </dl>\n",
    "  </dd>\n",
    "</dl>"
   ]
  },
  {
   "cell_type": "markdown",
   "metadata": {},
   "source": [
    "To switch directories, type <kbd>cd</kbd> followed by the name of the directory.<br>\n",
    "To edit settings, press <kbd><kbd>ctrl</kbd> + <kbd>,</kbd></kbd>"
   ]
  },
  {
   "cell_type": "markdown",
   "metadata": {},
   "source": [
    "<img src=\"https://picsum.photos/786/250\" class=\"img-fluid\" alt=\"Responsive image\">"
   ]
  },
  {
   "cell_type": "markdown",
   "metadata": {},
   "source": [
    "<img src=\"https://picsum.photos/200/200\" alt=\"...\" class=\"img-thumbnail\">"
   ]
  },
  {
   "cell_type": "markdown",
   "metadata": {},
   "source": [
    "<div class=\"alert alert-success\" role=\"alert\">\n",
    "  A simple success alert with <a href=\"#\" class=\"alert-link\">an example link</a>. Give it a click if you like.\n",
    "</div>\n",
    "<div class=\"alert alert-danger\" role=\"alert\">\n",
    "  A simple danger alert with <a href=\"#\" class=\"alert-link\">an example link</a>. Give it a click if you like.\n",
    "</div>\n",
    "<div class=\"alert alert-warning\" role=\"alert\">\n",
    "  A simple warning alert with <a href=\"#\" class=\"alert-link\">an example link</a>. Give it a click if you like.\n",
    "</div>\n",
    "<div class=\"alert alert-info\" role=\"alert\">\n",
    "  A simple info alert with <a href=\"#\" class=\"alert-link\">an example link</a>. Give it a click if you like.\n",
    "</div>"
   ]
  },
  {
   "cell_type": "markdown",
   "metadata": {},
   "source": [
    "<div class=\"alert alert-success\" role=\"alert\">\n",
    "  <h4 class=\"alert-heading\">Well done!</h4>\n",
    "  <p>Aww yeah, you successfully read this important alert message. This example text is going to run a bit longer so that you can see how spacing within an alert works with this kind of content.</p>\n",
    "  <hr>\n",
    "  <p class=\"mb-0\">Whenever you need to, be sure to use margin utilities to keep things nice and tidy.</p>\n",
    "</div>"
   ]
  },
  {
   "cell_type": "markdown",
   "metadata": {},
   "source": [
    "<button type=\"button\" class=\"btn btn-primary\"><i class=\"fas fa-address-card\"></i>Primary</button>\n",
    "<button type=\"button\" class=\"btn btn-success\"><i class=\"fas fa-address-card\"></i>Success</button>\n",
    "<button type=\"button\" class=\"btn btn-danger\"><i class=\"fas fa-address-card\"></i>Danger</button>\n",
    "<button type=\"button\" class=\"btn btn-warning\"><i class=\"fas fa-address-card\"></i>Warning</button>\n",
    "<button type=\"button\" class=\"btn btn-info\"><i class=\"fas fa-address-card\"></i>Info</button>"
   ]
  },
  {
   "cell_type": "markdown",
   "metadata": {},
   "source": [
    "<div class=\"jumbotron\">\n",
    "  <h1 class=\"display-4\">Hello, world!</h1>\n",
    "  <p class=\"lead\">This is a simple hero unit, a simple jumbotron-style component for calling extra attention to featured content or information.</p>\n",
    "  <hr class=\"my-4\">\n",
    "  <p>It uses utility classes for typography and spacing to space content out within the larger container.</p>\n",
    "  <a class=\"btn btn-primary btn-lg\" href=\"#\" role=\"button\">Learn more</a>\n",
    "</div>"
   ]
  },
  {
   "cell_type": "markdown",
   "metadata": {},
   "source": [
    "\\begin{align}\n",
    "\\dot{x} & = \\sigma(y-x) \\\\\n",
    "\\dot{y} & = \\rho x - y - xz \\\\\n",
    "\\dot{z} & = -\\beta z + xy\n",
    "\\end{align}"
   ]
  },
  {
   "cell_type": "markdown",
   "metadata": {},
   "source": [
    "\\begin{equation*}\n",
    "\\left( \\sum_{k=1}^n a_k b_k \\right)^2 \\leq \\left( \\sum_{k=1}^n a_k^2 \\right) \\left( \\sum_{k=1}^n b_k^2 \\right)\n",
    "\\end{equation*}\n"
   ]
  },
  {
   "cell_type": "markdown",
   "metadata": {},
   "source": [
    "\\begin{equation*}\n",
    "\\mathbf{V}_1 \\times \\mathbf{V}_2 =  \\begin{vmatrix}\n",
    "\\mathbf{i} & \\mathbf{j} & \\mathbf{k} \\\\\n",
    "\\frac{\\partial X}{\\partial u} &  \\frac{\\partial Y}{\\partial u} & 0 \\\\\n",
    "\\frac{\\partial X}{\\partial v} &  \\frac{\\partial Y}{\\partial v} & 0\n",
    "\\end{vmatrix}\n",
    "\\end{equation*}"
   ]
  },
  {
   "cell_type": "markdown",
   "metadata": {},
   "source": [
    "\\begin{equation*}\n",
    "P(E)   = {n \\choose k} p^k (1-p)^{ n-k}\n",
    "\\end{equation*}"
   ]
  },
  {
   "cell_type": "markdown",
   "metadata": {},
   "source": [
    "\\begin{equation*}\n",
    "\\frac{1}{\\Bigl(\\sqrt{\\phi \\sqrt{5}}-\\phi\\Bigr) e^{\\frac25 \\pi}} =\n",
    "1+\\frac{e^{-2\\pi}} {1+\\frac{e^{-4\\pi}} {1+\\frac{e^{-6\\pi}}\n",
    "{1+\\frac{e^{-8\\pi}} {1+\\ldots} } } }\n",
    "\\end{equation*}"
   ]
  },
  {
   "cell_type": "markdown",
   "metadata": {},
   "source": [
    "\\begin{equation*}\n",
    "1 +  \\frac{q^2}{(1-q)}+\\frac{q^6}{(1-q)(1-q^2)}+\\cdots =\n",
    "\\prod_{j=0}^{\\infty}\\frac{1}{(1-q^{5j+2})(1-q^{5j+3})},\n",
    "\\quad\\quad \\text{for $|q|<1$}.\n",
    "\\end{equation*}"
   ]
  },
  {
   "cell_type": "markdown",
   "metadata": {},
   "source": [
    "\\begin{align}\n",
    "\\nabla \\times \\vec{\\mathbf{B}} -\\, \\frac1c\\, \\frac{\\partial\\vec{\\mathbf{E}}}{\\partial t} & = \\frac{4\\pi}{c}\\vec{\\mathbf{j}} \\\\   \\nabla \\cdot \\vec{\\mathbf{E}} & = 4 \\pi \\rho \\\\\n",
    "\\nabla \\times \\vec{\\mathbf{E}}\\, +\\, \\frac1c\\, \\frac{\\partial\\vec{\\mathbf{B}}}{\\partial t} & = \\vec{\\mathbf{0}} \\\\\n",
    "\\nabla \\cdot \\vec{\\mathbf{B}} & = 0\n",
    "\\end{align}"
   ]
  },
  {
   "cell_type": "markdown",
   "metadata": {},
   "source": [
    "$\\sqrt{3x-1}+(1+x)^2$"
   ]
  },
  {
   "cell_type": "markdown",
   "metadata": {},
   "source": [
    "$$\n",
    "\\begin{array}{c}\n",
    "y_1 \\\\\\\n",
    "y_2 \\mathtt{t}_i \\\\\\\n",
    "z_{3,4}\n",
    "\\end{array}\n",
    "$$\n"
   ]
  },
  {
   "cell_type": "markdown",
   "metadata": {},
   "source": [
    "$$\n",
    "\\begin{array}{c}\n",
    "y_1 \\cr\n",
    "y_2 \\mathtt{t}_i \\cr\n",
    "y_{3}\n",
    "\\end{array}\n",
    "$$"
   ]
  },
  {
   "cell_type": "markdown",
   "metadata": {},
   "source": [
    "$\\begin{eqnarray}\n",
    "x' &=& &x \\sin\\phi &+& z \\cos\\phi \\\\\n",
    "z' &=& - &x \\cos\\phi &+& z \\sin\\phi \\\\\n",
    "\\end{eqnarray}$"
   ]
  },
  {
   "cell_type": "markdown",
   "metadata": {},
   "source": [
    "$$\n",
    "x=4\n",
    "$$"
   ]
  },
  {
   "cell_type": "code",
   "execution_count": 7,
   "metadata": {},
   "outputs": [],
   "source": [
    "#chama qtconsole\n",
    "#%qtconsole"
   ]
  },
  {
   "cell_type": "code",
   "execution_count": null,
   "metadata": {},
   "outputs": [],
   "source": []
  }
 ],
 "metadata": {
  "kernelspec": {
   "display_name": "Python 3",
   "language": "python",
   "name": "python3"
  },
  "language_info": {
   "codemirror_mode": {
    "name": "ipython",
    "version": 3
   },
   "file_extension": ".py",
   "mimetype": "text/x-python",
   "name": "python",
   "nbconvert_exporter": "python",
   "pygments_lexer": "ipython3",
   "version": "3.7.0"
  }
 },
 "nbformat": 4,
 "nbformat_minor": 2
}
