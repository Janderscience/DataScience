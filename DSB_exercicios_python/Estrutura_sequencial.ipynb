{
  "nbformat": 4,
  "nbformat_minor": 0,
  "metadata": {
    "colab": {
      "name": "Estrutura sequencial.ipynb",
      "version": "0.3.2",
      "provenance": [],
      "collapsed_sections": []
    },
    "kernelspec": {
      "name": "python3",
      "display_name": "Python 3"
    }
  },
  "cells": [
    {
      "metadata": {
        "id": "krh2fdnmJPFF",
        "colab_type": "text"
      },
      "cell_type": "markdown",
      "source": [
        "##ESTRUTURA SEQUENCIAL"
      ]
    },
    {
      "metadata": {
        "id": "ljryez02_V5R",
        "colab_type": "text"
      },
      "cell_type": "markdown",
      "source": [
        "1 - Faça um Programa que mostre a mensagem \"Alo mundo\" na tela."
      ]
    },
    {
      "metadata": {
        "id": "7xV46xwi_ci_",
        "colab_type": "code",
        "outputId": "4090f3e0-fa88-4b01-c72d-ce05fb4aeaf6",
        "colab": {
          "base_uri": "https://localhost:8080/",
          "height": 34
        }
      },
      "cell_type": "code",
      "source": [
        "print('Alo mundo')"
      ],
      "execution_count": 0,
      "outputs": [
        {
          "output_type": "stream",
          "text": [
            "Alo mundo\n"
          ],
          "name": "stdout"
        }
      ]
    },
    {
      "metadata": {
        "id": "-vgJSA8u_1F7",
        "colab_type": "text"
      },
      "cell_type": "markdown",
      "source": [
        "2 - Faça um Programa que peça um número e então mostre a mensagem O número informado foi [número]."
      ]
    },
    {
      "metadata": {
        "id": "tiz6xq4__9eL",
        "colab_type": "code",
        "outputId": "8258d341-bcd0-475d-f8da-24db9b0826f7",
        "colab": {
          "base_uri": "https://localhost:8080/",
          "height": 52
        }
      },
      "cell_type": "code",
      "source": [
        "x = int(input('Digite um numero:  '))\n",
        "print('O numero digitado foi: {}'.format(x))"
      ],
      "execution_count": 0,
      "outputs": [
        {
          "output_type": "stream",
          "text": [
            "Digite um numero:  17\n",
            "O numero digitado foi: 17\n"
          ],
          "name": "stdout"
        }
      ]
    },
    {
      "metadata": {
        "id": "kV6vf-dHAoN-",
        "colab_type": "text"
      },
      "cell_type": "markdown",
      "source": [
        "3 - Faça um Programa que peça dois números e imprima a soma."
      ]
    },
    {
      "metadata": {
        "id": "wu5v52ijArHX",
        "colab_type": "code",
        "outputId": "ae79a624-9c58-4210-a933-689c514b8a05",
        "colab": {
          "base_uri": "https://localhost:8080/",
          "height": 69
        }
      },
      "cell_type": "code",
      "source": [
        "x = int(input('Digite um numero:  '))\n",
        "y = int(input('Digite outro numero: '))\n",
        "soma = x + y\n",
        "print('A soma dos dois numeros digitados e igual a:  {}'.format(soma))"
      ],
      "execution_count": 0,
      "outputs": [
        {
          "output_type": "stream",
          "text": [
            "Digite um numero:  23\n",
            "Digite outro numero: 7\n",
            "A soma dos dois numeros digitados e igual a:  30\n"
          ],
          "name": "stdout"
        }
      ]
    },
    {
      "metadata": {
        "id": "Ggt3NmhYBRm2",
        "colab_type": "text"
      },
      "cell_type": "markdown",
      "source": [
        "4 - Faça um Programa que peça as 4 notas bimestrais e mostre a média.\n"
      ]
    },
    {
      "metadata": {
        "id": "9G74RdhuBH_J",
        "colab_type": "code",
        "outputId": "33f79769-4b3c-47ff-e961-85d70ffb1023",
        "colab": {
          "base_uri": "https://localhost:8080/",
          "height": 104
        }
      },
      "cell_type": "code",
      "source": [
        "nota1 = float(input('Digite a primeira nota:  '))\n",
        "nota2 = float(input('Digite a segunda nota:  '))\n",
        "nota3 = float(input('Digite a terceira nota:  '))\n",
        "nota4 = float(input('Digite a quarta nota:  '))\n",
        "media = (nota1 + nota2 + nota3 + nota4) / 4\n",
        "print('A media das notas foi de:  {}'.format(media))\n"
      ],
      "execution_count": 0,
      "outputs": [
        {
          "output_type": "stream",
          "text": [
            "Digite a primeira nota:  10.0\n",
            "Digite a segunda nota:  5.7\n",
            "Digite a terceira nota:  7.7\n",
            "Digite a quarta nota:  9.4\n",
            "A media das notas foi de:  8.2\n"
          ],
          "name": "stdout"
        }
      ]
    },
    {
      "metadata": {
        "id": "aYXD9UgYCdXU",
        "colab_type": "text"
      },
      "cell_type": "markdown",
      "source": [
        "5 - Faça um Programa que converta metros para centímetros."
      ]
    },
    {
      "metadata": {
        "id": "4v__rvmfBVkA",
        "colab_type": "code",
        "outputId": "b92b0e23-23df-4d05-e1f2-be860ea6f914",
        "colab": {
          "base_uri": "https://localhost:8080/",
          "height": 52
        }
      },
      "cell_type": "code",
      "source": [
        "metros = int(input('Digite quantos metros deseja converter em centímetros:  '))\n",
        "centimetros = metros * 100\n",
        "print('A conversao de: {} metros em centímetros, resulta em: {} cm'.format(metros,centimetros))"
      ],
      "execution_count": 0,
      "outputs": [
        {
          "output_type": "stream",
          "text": [
            "Digite quantos metros deseja converter em centímetros:  10\n",
            "A conversao de: 10 metros em centímetros, resulta em: 1000 cm\n"
          ],
          "name": "stdout"
        }
      ]
    },
    {
      "metadata": {
        "id": "qFeUalqZECaz",
        "colab_type": "text"
      },
      "cell_type": "markdown",
      "source": [
        "6 - Faça um Programa que peça o raio de um círculo, calcule e mostre sua área."
      ]
    },
    {
      "metadata": {
        "id": "mMMJtp66CbA_",
        "colab_type": "code",
        "outputId": "40306ae3-a7cd-42f7-cce5-3f7dd744956a",
        "colab": {
          "base_uri": "https://localhost:8080/",
          "height": 52
        }
      },
      "cell_type": "code",
      "source": [
        "raio = int(input('Digite o raio do circulo:  '))\n",
        "area_circulo = 3.14 * (raio ** 2)\n",
        "print('A área do circulo de raio: {} e igual a:  {}'.format(raio,area_circulo))\n"
      ],
      "execution_count": 0,
      "outputs": [
        {
          "output_type": "stream",
          "text": [
            "Digite o raio do circulo:  15\n",
            "A área do circulo de raio: 15 e igual a:  706.5\n"
          ],
          "name": "stdout"
        }
      ]
    },
    {
      "metadata": {
        "id": "sLz2iLeHHD4u",
        "colab_type": "text"
      },
      "cell_type": "markdown",
      "source": [
        "7 - faça um Programa que calcule a área de um quadrado, em seguida mostre o dobro desta área para o usuário. "
      ]
    },
    {
      "metadata": {
        "id": "maV6oZb_FUVz",
        "colab_type": "code",
        "outputId": "c957e041-8aa4-4ab0-df52-2e6c3e259987",
        "colab": {
          "base_uri": "https://localhost:8080/",
          "height": 69
        }
      },
      "cell_type": "code",
      "source": [
        "lado = int(input('Digite o valor de um dos lados do quadrado: '))\n",
        "area = lado ** 2\n",
        "print('A área do quadrado e igual a:  {}'.format(area))\n",
        "print('O dobro da área deste quadrado e: {}'.format(area * 2))"
      ],
      "execution_count": 0,
      "outputs": [
        {
          "output_type": "stream",
          "text": [
            "Digite o valor de um dos lados do quadrado: 8\n",
            "A área do quadrado e igual a:  64\n",
            "O dobro da área deste quadrado e: 128\n"
          ],
          "name": "stdout"
        }
      ]
    },
    {
      "metadata": {
        "id": "QU1uozd9JhrQ",
        "colab_type": "text"
      },
      "cell_type": "markdown",
      "source": [
        "8 - Faça um Programa que pergunte quanto você ganha por hora e o número de horas trabalhadas no mês. Calcule e mostre o total do seu salário no referido mês."
      ]
    },
    {
      "metadata": {
        "id": "GZIuW8spHL5m",
        "colab_type": "code",
        "outputId": "db451841-df82-4168-a773-dec037a0f573",
        "colab": {
          "base_uri": "https://localhost:8080/",
          "height": 69
        }
      },
      "cell_type": "code",
      "source": [
        "ganho_por_hora = int(input('Digite quanto voce ganha por hora:  '))\n",
        "horas_trabalhadas_mes = int(input('Digite quantas horas voce trabalhou no mês:  '))\n",
        "ganho_mes = ganho_por_hora * horas_trabalhadas_mes\n",
        "print('O salário do referido mês foi de: {}R$'.format(ganho_mes))"
      ],
      "execution_count": 0,
      "outputs": [
        {
          "output_type": "stream",
          "text": [
            "Digite quanto voce ganha por hora:  50\n",
            "Digite quantas horas voce trabalhou no mês:  176\n",
            "O salário do referido mês foi de: 8800R$\n"
          ],
          "name": "stdout"
        }
      ]
    },
    {
      "metadata": {
        "id": "t3nHR-0yK3Be",
        "colab_type": "text"
      },
      "cell_type": "markdown",
      "source": [
        "9 - Faça um Programa que peça a temperatura em graus Farenheit, transforme e mostre a temperatura em graus Celsius. "
      ]
    },
    {
      "metadata": {
        "id": "Vt1DnWJLJklS",
        "colab_type": "code",
        "outputId": "b773199d-c348-4bd3-ea60-67ce1d87b95f",
        "colab": {
          "base_uri": "https://localhost:8080/",
          "height": 52
        }
      },
      "cell_type": "code",
      "source": [
        "farenheit = float(input('Digite a temperatura em graus Farenheit: '))\n",
        "celsius = round((farenheit - 32) / 1.8)\n",
        "print('A temperatura e de: {} graus celsius'.format(celsius))"
      ],
      "execution_count": 0,
      "outputs": [
        {
          "output_type": "stream",
          "text": [
            "Digite a temperatura em graus Farenheit: 45\n",
            "A temperatura e de: 7 graus celsius\n"
          ],
          "name": "stdout"
        }
      ]
    },
    {
      "metadata": {
        "id": "TAr1s3fCNAIJ",
        "colab_type": "text"
      },
      "cell_type": "markdown",
      "source": [
        "10 - Faça um Programa que peça a temperatura em graus Celsius, transforme e mostre em graus Farenheit. "
      ]
    },
    {
      "metadata": {
        "id": "VVSKKoDtK-0O",
        "colab_type": "code",
        "outputId": "31978334-5f2f-4605-9242-7d3448037dd2",
        "colab": {
          "base_uri": "https://localhost:8080/",
          "height": 52
        }
      },
      "cell_type": "code",
      "source": [
        "celsius = float(input('Digite a temperatura em graus Celsius:'))\n",
        "farenheit = celsius * 1.8 + 32\n",
        "print('A temmperatura em Farenheit e de: {}'.format(farenheit))"
      ],
      "execution_count": 0,
      "outputs": [
        {
          "output_type": "stream",
          "text": [
            "Digite a temperatura em graus Celsius:32\n",
            "A temmperatura em Farenheit e de: 89.6\n"
          ],
          "name": "stdout"
        }
      ]
    },
    {
      "metadata": {
        "id": "40K0rg92OMIx",
        "colab_type": "text"
      },
      "cell_type": "markdown",
      "source": [
        "11 - Faça um Programa que peça 2 números inteiros e um número real. Calcule e mostre:\n",
        "\n",
        "\n",
        "1.   o produto do dobro do primeiro com metade do segundo .\n",
        "2.  a soma do triplo do primeiro com o terceiro.\n",
        "3. o terceiro elevado ao cubo\n",
        "\n"
      ]
    },
    {
      "metadata": {
        "id": "4u9ftxgANCcS",
        "colab_type": "code",
        "outputId": "b75b4942-9d72-4302-cb41-6afc76d091b6",
        "colab": {
          "base_uri": "https://localhost:8080/",
          "height": 121
        }
      },
      "cell_type": "code",
      "source": [
        "numero1 = int(input('Digite o primeiro numero:  '))\n",
        "numero2 = int(input('Digite o segundo numero: '))\n",
        "numero3 = int(input('Digite o terceiro numero: '))\n",
        "soma1 = numero1 * 2 - numero2\n",
        "soma2 = numero1 * 3 + numero3\n",
        "soma3 = numero3 ** 3\n",
        "print('o produto do dobro do primeiro com metade do segundo: {}'.format(soma1))\n",
        "print('a soma do triplo do primeiro com o terceiro: {}'.format(soma2))\n",
        "print('o terceiro elevado ao cubo: {}'.format(soma3))"
      ],
      "execution_count": 0,
      "outputs": [
        {
          "output_type": "stream",
          "text": [
            "Digite o primeiro numero:  3\n",
            "Digite o segundo numero: 7\n",
            "Digite o terceiro numero: 5\n",
            "o produto do dobro do primeiro com metade do segundo: -1\n",
            "a soma do triplo do primeiro com o terceiro: 14\n",
            "o terceiro elevado ao cubo: 125\n"
          ],
          "name": "stdout"
        }
      ]
    },
    {
      "metadata": {
        "id": "q5ZdQworQTT0",
        "colab_type": "text"
      },
      "cell_type": "markdown",
      "source": [
        "12 - Tendo como dados de entrada a altura de uma pessoa, construa um algoritmo que calcule seu peso ideal, usando a seguinte fórmula: (72.7*altura) - 58"
      ]
    },
    {
      "metadata": {
        "id": "guCtDz4ZOeqd",
        "colab_type": "code",
        "outputId": "c59cc55e-ae1a-4942-9329-1af00862213a",
        "colab": {
          "base_uri": "https://localhost:8080/",
          "height": 52
        }
      },
      "cell_type": "code",
      "source": [
        "altura = float(input('Digite a sua altura: '))\n",
        "peso = round(72.1 * altura - 58)\n",
        "print('O seu peso ideal e: {} Kg'.format(peso))"
      ],
      "execution_count": 0,
      "outputs": [
        {
          "output_type": "stream",
          "text": [
            "Digite a sua altura: 1.97\n",
            "O seu peso ideal e: 84 Kg\n"
          ],
          "name": "stdout"
        }
      ]
    },
    {
      "metadata": {
        "id": "owF3HJbyRv0y",
        "colab_type": "text"
      },
      "cell_type": "markdown",
      "source": [
        "13 - Tendo como dado de entrada a altura (h) de uma pessoa, construa um algoritmo que calcule seu peso ideal, utilizando as seguintes fórmulas: \n",
        "\n",
        "*  Para homens: (72.7*h) - 58 \n",
        "*   Para mulheres: (62.1*h) - 44.7\n",
        "\n"
      ]
    },
    {
      "metadata": {
        "id": "-eEZkoKkR7hF",
        "colab_type": "code",
        "outputId": "89e58bd4-722a-4a39-aaf1-286a2bb30b34",
        "colab": {
          "base_uri": "https://localhost:8080/",
          "height": 69
        }
      },
      "cell_type": "code",
      "source": [
        "h = float(input('Digite a sua altura:  '))\n",
        "homem = round(72.7 * h -58)\n",
        "mulher = round(62.1 * h - 44.7)\n",
        "print('O peso ideal para um homem de altura: {} m sera de: {} Kg'. format(h, homem))\n",
        "print('O peso ideal para uma mulher de altura: {} m, sera de: {} Kg'.format(h,mulher))"
      ],
      "execution_count": 0,
      "outputs": [
        {
          "output_type": "stream",
          "text": [
            "Digite a sua altura:  1.89\n",
            "O peso ideal para um homem de altura: 1.89 m sera de: 79 Kg\n",
            "O peso ideal para uma mulher de altura: 1.89 m, sera de: 73 Kg\n"
          ],
          "name": "stdout"
        }
      ]
    },
    {
      "metadata": {
        "id": "kv8Hez0YTDpd",
        "colab_type": "code",
        "colab": {}
      },
      "cell_type": "code",
      "source": [
        ""
      ],
      "execution_count": 0,
      "outputs": []
    },
    {
      "metadata": {
        "id": "VtboA7vqTc56",
        "colab_type": "text"
      },
      "cell_type": "markdown",
      "source": [
        "14 - João Papo-de-Pescador, homem de bem, comprou um microcomputador para controlar o rendimento diário de seu trabalho. Toda vez que ele traz um peso de peixes maior que o estabelecido pelo regulamento de pesca do estado de São Paulo (50 quilos) deve pagar uma multa de R$ 4,00 por quilo excedente. João precisa que você faça um programa que leia a variável peso (peso de peixes) e calcule o excesso. Gravar na variável excesso a quantidade de quilos além do limite e na variável multa o valor da multa que João deverá pagar. Imprima os dados do programa com as mensagens adequadas."
      ]
    },
    {
      "metadata": {
        "id": "y6PRmyYJTpOU",
        "colab_type": "code",
        "outputId": "b638ef5e-621e-4404-f065-9efb0fcb97ef",
        "colab": {
          "base_uri": "https://localhost:8080/",
          "height": 86
        }
      },
      "cell_type": "code",
      "source": [
        "peso = int(input('Digite o peso dos peixes: '))\n",
        "exc_peso = peso - 50\n",
        "exc_multa = exc_peso * 4\n",
        "print('O peso dos peixes e igual a: {} Kg'.format(peso))\n",
        "print('O peso excedente foi de: {} Kg'.format(exc_peso))\n",
        "print('O valor da multa e de: {} R$'.format(exc_multa))\n",
        "  "
      ],
      "execution_count": 0,
      "outputs": [
        {
          "output_type": "stream",
          "text": [
            "Digite o peso dos peixes: 200\n",
            "O peso dos peixes e igual a: 200 Kg\n",
            "O peso excedente foi de: 150 Kg\n",
            "O valor da multa e de: 600 R$\n"
          ],
          "name": "stdout"
        }
      ]
    },
    {
      "metadata": {
        "id": "17o6aX77XkJT",
        "colab_type": "text"
      },
      "cell_type": "markdown",
      "source": [
        "15 - Faça um Programa que pergunte quanto você ganha por hora e o número de horas trabalhadas no mês. Calcule e mostre o total do seu salário no referido mês, sabendo-se que são descontados 11% para o Imposto de Renda, 8% para o INSS e 5% para o sindicato, faça um programa que nos dê: \n",
        "\n",
        "1.   salário bruto. \n",
        "2.   quanto pagou ao INSS\n",
        "3. quanto pagou ao sindicato\n",
        "4. o salário líquido\n",
        "5. calcule os descontos e o salário líquido, conforme a tabela abaixo\n",
        "\n"
      ]
    },
    {
      "metadata": {
        "id": "fwAcy1wYVdcF",
        "colab_type": "code",
        "outputId": "fa6fcc98-df61-485c-c790-7e529571154a",
        "colab": {
          "base_uri": "https://localhost:8080/",
          "height": 173
        }
      },
      "cell_type": "code",
      "source": [
        "ganho_por_hora = int(input('Digite quanto voce ganha por hora:  '))\n",
        "horas_trabalhadas_mes = int(input('Digite quantas horas voce trabalhou no mês:  '))\n",
        "ganho_mes = ganho_por_hora * horas_trabalhadas_mes\n",
        "inss = (ganho_mes * 8) / 100\n",
        "sindicato = (ganho_mes * 5) / 100\n",
        "imposto_renda = (ganho_mes * 11) / 100\n",
        "salario_liquido = ganho_mes - (inss + sindicato + imposto_renda)\n",
        "total_descontos = inss + sindicato + imposto_renda\n",
        "porcentagen = (total_descontos / ganho_mes) * 100\n",
        "dia = round(total_descontos / (ganho_por_hora * 8))\n",
        "\n",
        "\n",
        "print('O salário bruto foi de: {} R$'.format(ganho_mes))\n",
        "print('O desconto do INSS foi de: {} R$'.format(inss))\n",
        "print('O desconto do imposto de renda foi de: {} R$'.format(imposto_renda))\n",
        "print('O desconto do sindicato foi de: {} R$'.format(sindicato))\n",
        "print('O salario liquido foi de: {} R$'.format(salario_liquido))\n",
        "print('O total de descontos foi de: {} R$, o que equivale a {}% do salario '.format(total_descontos,porcentagen))\n",
        "print('serão necessarios {} dias para recuperar esse valor'.format(dia))\n"
      ],
      "execution_count": 0,
      "outputs": [
        {
          "output_type": "stream",
          "text": [
            "Digite quanto voce ganha por hora:  20\n",
            "Digite quantas horas voce trabalhou no mês:  176\n",
            "O salário bruto foi de: 3520 R$\n",
            "O desconto do INSS foi de: 281.6 R$\n",
            "O desconto do imposto de renda foi de: 387.2 R$\n",
            "O desconto do sindicato foi de: 176.0 R$\n",
            "O salario liquido foi de: 2675.2 R$\n",
            "O total de descontos foi de: 844.8 R$, o que equivale a 24.0% do salario \n",
            "serão necessarios 5 dias para recuperar esse valor\n"
          ],
          "name": "stdout"
        }
      ]
    },
    {
      "metadata": {
        "id": "IGJS33v6YCwF",
        "colab_type": "code",
        "colab": {}
      },
      "cell_type": "code",
      "source": [
        ""
      ],
      "execution_count": 0,
      "outputs": []
    },
    {
      "metadata": {
        "id": "DmO6sF5MjtYf",
        "colab_type": "text"
      },
      "cell_type": "markdown",
      "source": [
        "17 - Faça um programa para uma loja de tintas. O programa deverá pedir o tamanho em metros quadrados da área a ser pintada. Considere que a cobertura da tinta é de 1 litro para cada 3 metros quadrados e que a tinta é vendida em latas de 18 litros, que custam R$ 80,00. Informe ao usuário a quantidades de latas de tinta a serem compradas e o preço total. "
      ]
    },
    {
      "metadata": {
        "id": "d-T3uEhjjv0R",
        "colab_type": "code",
        "outputId": "962ee8b2-5772-4781-91df-0a461a701346",
        "colab": {
          "base_uri": "https://localhost:8080/",
          "height": 69
        }
      },
      "cell_type": "code",
      "source": [
        "area  = int(input('Digite o tamanho em metros quadrados da área a ser pintada: '))\n",
        "quantidade_lata = round(area / (18 * 3))\n",
        "valor_tinta = quantidade_lata * 80\n",
        "print('Serão necesarios {} latas(s) para pintar uma área de {} metros'.format(quantidade_lata, area))\n",
        "print('Serão gastos {} R$'.format(valor_tinta))\n"
      ],
      "execution_count": 0,
      "outputs": [
        {
          "output_type": "stream",
          "text": [
            "Digite o tamanho em metros quadrados da área a ser pintada: 1024\n",
            "Serão necesarios 19 latas(s) para pintar uma área de 1024 metros\n",
            "Serão gastos 1520 R$\n"
          ],
          "name": "stdout"
        }
      ]
    },
    {
      "metadata": {
        "id": "dIc8dh9bn6YI",
        "colab_type": "text"
      },
      "cell_type": "markdown",
      "source": [
        "17 - Faça um Programa para uma loja de tintas. O programa deverá pedir o tamanho em metros quadrados da área a ser pintada. Considere que a cobertura da tinta é de 1 litro para cada 6 metros quadrados e que a tinta é vendida em latas de 18 litros, que custam 80 em galões de 3,6 litros, que custam R$ 25,00\n",
        "    Informe ao usuário as quantidades de tinta a serem compradas e os respectivos preços em 3 situações:\n",
        "   * comprar apenas latas de 18 litros;\n",
        "   * comprar apenas galões de 3,6 litros;\n",
        "   * misturar latas e galões, de forma que o preço seja o menor. Acrescente 10% de folga e sempre arredonde os valores para cima, isto é, considere latas cheias. "
      ]
    },
    {
      "metadata": {
        "id": "LPwdFj0wn9P9",
        "colab_type": "code",
        "outputId": "6d975fb0-3203-4a38-aa87-e648f6642cd1",
        "colab": {
          "base_uri": "https://localhost:8080/",
          "height": 69
        }
      },
      "cell_type": "code",
      "source": [
        "area  = float(input('Digite o tamanho em metros quadrados da área a ser pintada: '))\n",
        "if area == 21.6:\n",
        "  print('Você usará apenas 1 galão de 3.6 litros')\n",
        "elif area < 21.6:\n",
        "\tprint(\"Você usará apenas 1 galão de 3,6 litros de tinta.\")\n",
        "elif area > 21.6 and area < 108.0:\n",
        "    galao = round(area / 21.6)\n",
        "    print('Voce gastara {} galões de tinta e pagara {} R$'.format(galao, galao*25))\n",
        "elif area == 108.0:\n",
        "    print('Você usará apenas 1 lata de 18 litros')\n",
        "elif area > 108:\n",
        "    lata = round(area / 108)\n",
        "    print('Voce gastara {} latas de tinta e pagara {} R$'.format(lata, lata*80))\n",
        "latas = round(area / 108)\n",
        "latas_valor = latas * 80\n",
        "galao = round((area % 108) / 21.6)\n",
        "galoes_valor = galao * 25\n",
        "total = ((latas_valor + galoes_valor) * 10) / 100 \n",
        "valor_total = total + (latas_valor + galoes_valor)\n",
        "print('Você precisara de {} galoes e {} latas para cobrir um área de: {} m, o valor final sera: {} R$'.format(galao,latas,area, valor_total))\n",
        "    \n",
        "  "
      ],
      "execution_count": 1,
      "outputs": [
        {
          "output_type": "stream",
          "text": [
            "Digite o tamanho em metros quadrados da área a ser pintada: 500\n",
            "Voce gastara 5 latas de tinta e pagara 400 R$\n",
            "Você precisara de 3 galoes e 5 latas para cobrir um área de: 500.0 m, o valor final sera: 522.5 R$\n"
          ],
          "name": "stdout"
        }
      ]
    },
    {
      "metadata": {
        "id": "FznaMIfRIZbL",
        "colab_type": "text"
      },
      "cell_type": "markdown",
      "source": [
        "18 - Faça um programa que peça o tamanho de um arquivo para download (em MB) e a velocidade de um link de Internet (em Mbps), calcule e informe o tempo aproximado de download do arquivo usando este link (em minutos). "
      ]
    },
    {
      "metadata": {
        "id": "eFD3aAHrp5e9",
        "colab_type": "code",
        "colab": {
          "base_uri": "https://localhost:8080/",
          "height": 69
        },
        "outputId": "8e7afc8b-4e07-40f0-b11e-13b3a4a10549"
      },
      "cell_type": "code",
      "source": [
        "tamanho = float(input('Tamanho do arquivo (MB): '))\n",
        "velocidade = float(input('Velocidade de Internet (MBps): '))\n",
        "tempo = (tamanho / velocidade) * 60\n",
        "print('Tempo aproximado de download: {} Minutos '.format(tempo))\n",
        "\n"
      ],
      "execution_count": 6,
      "outputs": [
        {
          "output_type": "stream",
          "text": [
            "Tamanho do arquivo (MB): 250\n",
            "Velocidade de Internet (MBps): 800\n",
            "Tempo aproximado de download: 18.75 Minutos \n"
          ],
          "name": "stdout"
        }
      ]
    },
    {
      "metadata": {
        "id": "pZ_B4wclKRXF",
        "colab_type": "code",
        "colab": {}
      },
      "cell_type": "code",
      "source": [
        ""
      ],
      "execution_count": 0,
      "outputs": []
    }
  ]
}