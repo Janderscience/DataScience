{
  "nbformat": 4,
  "nbformat_minor": 0,
  "metadata": {
    "colab": {
      "name": "estrutura_de_decisao.ipynb",
      "version": "0.3.2",
      "provenance": []
    },
    "kernelspec": {
      "name": "python3",
      "display_name": "Python 3"
    }
  },
  "cells": [
    {
      "metadata": {
        "id": "DNXMDhWgNejp",
        "colab_type": "text"
      },
      "cell_type": "markdown",
      "source": [
        "##ESTRUTURA DE DECISÃO"
      ]
    },
    {
      "metadata": {
        "id": "CmnVaU7lNe57",
        "colab_type": "text"
      },
      "cell_type": "markdown",
      "source": [
        "1 - Faça um Programa que peça dois números e imprima o maior deles. "
      ]
    },
    {
      "metadata": {
        "id": "spBLT1fDUXVD",
        "colab_type": "code",
        "colab": {}
      },
      "cell_type": "code",
      "source": [
        ""
      ],
      "execution_count": 0,
      "outputs": []
    },
    {
      "metadata": {
        "id": "NWETv_SbNfFZ",
        "colab_type": "text"
      },
      "cell_type": "markdown",
      "source": [
        "2 - Faça um Programa que peça um valor e mostre na tela se o valor é positivo ou negativo. "
      ]
    },
    {
      "metadata": {
        "id": "bWs5T8MCUcwP",
        "colab_type": "code",
        "colab": {}
      },
      "cell_type": "code",
      "source": [
        ""
      ],
      "execution_count": 0,
      "outputs": []
    },
    {
      "metadata": {
        "id": "uic_fhX3NfRI",
        "colab_type": "text"
      },
      "cell_type": "markdown",
      "source": [
        "3 - Faça um Programa que verifique se uma letra digitada é \"F\" ou \"M\". Conforme a letra escrever: F - Feminino, M - Masculino, Sexo Inválido"
      ]
    },
    {
      "metadata": {
        "id": "chpdAGJZUdkr",
        "colab_type": "code",
        "colab": {}
      },
      "cell_type": "code",
      "source": [
        ""
      ],
      "execution_count": 0,
      "outputs": []
    },
    {
      "metadata": {
        "id": "T_aLx0nwNfdn",
        "colab_type": "text"
      },
      "cell_type": "markdown",
      "source": [
        "4 - Faça um Programa que verifique se uma letra digitada é vogal ou consoante."
      ]
    },
    {
      "metadata": {
        "id": "wSy7P8VFUeRL",
        "colab_type": "code",
        "colab": {}
      },
      "cell_type": "code",
      "source": [
        ""
      ],
      "execution_count": 0,
      "outputs": []
    },
    {
      "metadata": {
        "id": "Th9cildkNfoH",
        "colab_type": "text"
      },
      "cell_type": "markdown",
      "source": [
        "5 - Faça um programa para a leitura de duas notas parciais de um aluno. O programa deve calcular a média alcançada por aluno e apresentar: \n",
        "* A mensagem \"Aprovado\", se a média alcançada for maior ou igual a sete;\n",
        "* A mensagem \"Reprovado\", se a média for menor do que sete;\n",
        "* A mensagem \"Aprovado com Distinção\", se a média for igual a dez. \n",
        "\n",
        "\n",
        "\n"
      ]
    },
    {
      "metadata": {
        "id": "5h8324rCUfj0",
        "colab_type": "code",
        "colab": {}
      },
      "cell_type": "code",
      "source": [
        ""
      ],
      "execution_count": 0,
      "outputs": []
    },
    {
      "metadata": {
        "id": "uWQzDL6ENfxj",
        "colab_type": "text"
      },
      "cell_type": "markdown",
      "source": [
        "6 - Faça um Programa que leia três números e mostre o maior deles. "
      ]
    },
    {
      "metadata": {
        "id": "2jMYQtyJUgLt",
        "colab_type": "code",
        "colab": {}
      },
      "cell_type": "code",
      "source": [
        ""
      ],
      "execution_count": 0,
      "outputs": []
    },
    {
      "metadata": {
        "id": "12-CdsPENf7n",
        "colab_type": "text"
      },
      "cell_type": "markdown",
      "source": [
        "7 - Faça um Programa que leia três números e mostre o maior e o menor deles. "
      ]
    },
    {
      "metadata": {
        "id": "8pC4sVGdUhDi",
        "colab_type": "code",
        "colab": {}
      },
      "cell_type": "code",
      "source": [
        ""
      ],
      "execution_count": 0,
      "outputs": []
    },
    {
      "metadata": {
        "id": "ysQ5G92TNgF2",
        "colab_type": "text"
      },
      "cell_type": "markdown",
      "source": [
        "8 - Faça um programa que pergunte o preço de três produtos e informe qual produto você deve comprar, sabendo que a decisão é sempre pelo mais barato. "
      ]
    },
    {
      "metadata": {
        "id": "HI9DNx_xUi2P",
        "colab_type": "code",
        "colab": {}
      },
      "cell_type": "code",
      "source": [
        ""
      ],
      "execution_count": 0,
      "outputs": []
    },
    {
      "metadata": {
        "id": "XbCpULRWOwn9",
        "colab_type": "text"
      },
      "cell_type": "markdown",
      "source": [
        "9 - Faça um Programa que leia três números e mostre-os em ordem decrescente. "
      ]
    },
    {
      "metadata": {
        "id": "897YIn3uUj1b",
        "colab_type": "code",
        "colab": {}
      },
      "cell_type": "code",
      "source": [
        ""
      ],
      "execution_count": 0,
      "outputs": []
    },
    {
      "metadata": {
        "id": "q_qIpKnyOwuF",
        "colab_type": "text"
      },
      "cell_type": "markdown",
      "source": [
        "10 - Faça um Programa que pergunte em que turno você estuda. Peça para digitar M-matutino ou V-Vespertino ou N- Noturno. Imprima a mensagem \"Bom Dia!\", \"Boa Tarde!\" ou \"Boa Noite!\" ou \"Valor Inválido!\", conforme o caso. "
      ]
    },
    {
      "metadata": {
        "id": "rfcMmsznUk5x",
        "colab_type": "code",
        "colab": {}
      },
      "cell_type": "code",
      "source": [
        ""
      ],
      "execution_count": 0,
      "outputs": []
    },
    {
      "metadata": {
        "id": "SaBfEpOEOwzo",
        "colab_type": "text"
      },
      "cell_type": "markdown",
      "source": [
        "11 - As Organizações Tabajara resolveram dar um aumento de salário aos seus colaboradores e lhe contraram para desenvolver o programa que calculará os reajustes.\n",
        "Faça um programa que recebe o salário de um colaborador e o reajuste segundo o seguinte critério, baseado no salário atual: \n",
        "\n",
        "*  salários até 280,00 (incluindo) : aumento de 20%\n",
        "*  salários entre 280,00 e 700,00 : aumento de 15%\n",
        "*  salários entre 700,00 e 1500,00 : aumento de 10%\n",
        "*  salários de 1500,00 em diante : aumento de 5% Após o aumento ser realizado, informe na tela:\n",
        "*  o salário antes do reajuste;\n",
        "*  o percentual de aumento aplicado;\n",
        "*  o valor do aumento;\n",
        "*  o novo salário, após o aumento. \n",
        "\n",
        "\n",
        "\n",
        "\n",
        "\n",
        "\n"
      ]
    },
    {
      "metadata": {
        "id": "W17KVNxsUm1m",
        "colab_type": "code",
        "colab": {}
      },
      "cell_type": "code",
      "source": [
        ""
      ],
      "execution_count": 0,
      "outputs": []
    },
    {
      "metadata": {
        "id": "jfv_SShyOw6v",
        "colab_type": "text"
      },
      "cell_type": "markdown",
      "source": [
        "12 - Faça um programa para o cálculo de uma folha de pagamento, sabendo que os descontos são do Imposto de Renda, que depende do salário bruto (conforme tabela abaixo) e 3% para o Sindicato e que o FGTS corresponde a 11% do Salário Bruto, mas não é descontado (é a empresa que deposita). O Salário Líquido corresponde ao Salário Bruto menos os descontos. O programa deverá pedir ao usuário o valor da sua hora e a quantidade de horas trabalhadas no mês.\n",
        "\n",
        "    Desconto do IR: \n",
        "*  Salário Bruto até 900 (inclusive) - isento\n",
        "*  Salário Bruto até 1500 (inclusive) - desconto de 5%\n",
        "*  Salário Bruto até 2500 (inclusive) - desconto de 10%\n",
        "*  Salário Bruto acima de 2500 - desconto de 20% Imprima na tela as informações, dispostas conforme o exemplo abaixo. No exemplo o valor da hora é 5 e a quantidade de hora é 220. "
      ]
    },
    {
      "metadata": {
        "id": "ac2m35TTUob7",
        "colab_type": "code",
        "colab": {}
      },
      "cell_type": "code",
      "source": [
        ""
      ],
      "execution_count": 0,
      "outputs": []
    },
    {
      "metadata": {
        "id": "wwbO1SxjSD4p",
        "colab_type": "text"
      },
      "cell_type": "markdown",
      "source": [
        "13 - Faça um Programa que leia um número e exiba o dia correspondente da semana. (1-Domingo, 2- Segunda, etc.), se digitar outro valor deve aparecer valor inválido. "
      ]
    },
    {
      "metadata": {
        "id": "_DaAXLmQUuTN",
        "colab_type": "code",
        "colab": {}
      },
      "cell_type": "code",
      "source": [
        ""
      ],
      "execution_count": 0,
      "outputs": []
    },
    {
      "metadata": {
        "id": "0qJk83NdSEDa",
        "colab_type": "text"
      },
      "cell_type": "markdown",
      "source": [
        "14 - Faça um programa que lê as duas notas parciais obtidas por um aluno numa disciplina ao longo de um semestre, e calcule a sua média. A atribuição de conceitos obedece à tabela abaixo: \n",
        "\n",
        "Média de Aproveitamento  Conceito\n",
        "  *  Entre 9.0 e 10.0        A\n",
        "  *  Entre 7.5 e 9.0         B\n",
        "  *  Entre 6.0 e 7.5         C\n",
        "  *  Entre 4.0 e 6.0         D\n",
        "  *  Entre 4.0 e zero        E\n",
        "  \n",
        "  O algoritmo deve mostrar na tela as notas, a média, o conceito correspondente e a mensagem “APROVADO” se o conceito for A, B ou C ou “REPROVADO” se o conceito for D ou E. "
      ]
    },
    {
      "metadata": {
        "id": "P8S-6TDPUqkw",
        "colab_type": "code",
        "colab": {}
      },
      "cell_type": "code",
      "source": [
        ""
      ],
      "execution_count": 0,
      "outputs": []
    },
    {
      "metadata": {
        "id": "i64sgfRPSEP5",
        "colab_type": "text"
      },
      "cell_type": "markdown",
      "source": [
        "15 - Faça um Programa que peça os 3 lados de um triângulo. O programa deverá informar se os valores podem ser um triângulo. Indique, caso os lados formem um triângulo, se o mesmo é: equilátero, isósceles ou escaleno.\n",
        "\n",
        "    Dicas: \n",
        "*  Três lados formam um triângulo quando a soma de quaisquer dois lados for maior que o terceiro;\n",
        "*  Triângulo Equilátero: três lados iguais;\n",
        "*  Triângulo Isósceles: quaisquer dois lados iguais;\n",
        "*  Triângulo Escaleno: três lados diferentes; "
      ]
    },
    {
      "metadata": {
        "id": "YIOqtcuPUwQK",
        "colab_type": "code",
        "colab": {}
      },
      "cell_type": "code",
      "source": [
        ""
      ],
      "execution_count": 0,
      "outputs": []
    },
    {
      "metadata": {
        "id": "fbIm8K7XTHds",
        "colab_type": "text"
      },
      "cell_type": "markdown",
      "source": [
        "16 - Faça um programa que calcule as raízes de uma equação do segundo grau, na forma ax2 + bx + c. O programa deverá pedir os valores de a, b e c e fazer as consistências, informando ao usuário nas seguintes situações: \n",
        "1.  Se o usuário informar o valor de A igual a zero, a equação não é do segundo grau e o programa não deve fazer pedir os demais valores, sendo encerrado;\n",
        "2.  Se o delta calculado for negativo, a equação não possui raizes reais. Informe ao usuário e encerre o programa;\n",
        "3.  Se o delta calculado for igual a zero a equação possui apenas uma raiz real; informe-a ao usuário;\n",
        "4.  Se o delta for positivo, a equação possui duas raiz reais; informe-as ao usuário; "
      ]
    },
    {
      "metadata": {
        "id": "CBPBoWm5Uw9u",
        "colab_type": "code",
        "colab": {}
      },
      "cell_type": "code",
      "source": [
        ""
      ],
      "execution_count": 0,
      "outputs": []
    },
    {
      "metadata": {
        "id": "gTFVIv8FTHp-",
        "colab_type": "text"
      },
      "cell_type": "markdown",
      "source": [
        "17 - Faça um Programa que peça um número correspondente a um determinado ano e em seguida informe se este ano é ou não bissexto."
      ]
    },
    {
      "metadata": {
        "id": "0-GTVivCUzA5",
        "colab_type": "code",
        "colab": {}
      },
      "cell_type": "code",
      "source": [
        ""
      ],
      "execution_count": 0,
      "outputs": []
    },
    {
      "metadata": {
        "id": "b0B5Twu8THy_",
        "colab_type": "text"
      },
      "cell_type": "markdown",
      "source": [
        "18 - Faça um Programa que peça uma data no formato dd/mm/aaaa e determine se a mesma é uma data válida. "
      ]
    },
    {
      "metadata": {
        "id": "KD-WxhEIUz_Z",
        "colab_type": "code",
        "colab": {}
      },
      "cell_type": "code",
      "source": [
        ""
      ],
      "execution_count": 0,
      "outputs": []
    },
    {
      "metadata": {
        "id": "we-pmp0RTH-U",
        "colab_type": "text"
      },
      "cell_type": "markdown",
      "source": [
        "19 - Faça um Programa que leia um número inteiro menor que 1000 e imprima a quantidade de centenas, dezenas e unidades do mesmo.\n",
        "\n",
        "    Observando os termos no plural a colocação do \"e\", da vírgula entre outros. Exemplo:\n",
        "*  326 = 3 centenas, 2 dezenas e 6 unidades\n",
        "*  12 = 1 dezena e 2 unidades Testar com: 326, 300, 100, 320, 310,305, 301, 101, 311, 111, 25, 20, 10, 21, 11, 1, 7 e 16 "
      ]
    },
    {
      "metadata": {
        "id": "ZIoWsVW8U02y",
        "colab_type": "code",
        "colab": {}
      },
      "cell_type": "code",
      "source": [
        ""
      ],
      "execution_count": 0,
      "outputs": []
    }
  ]
}